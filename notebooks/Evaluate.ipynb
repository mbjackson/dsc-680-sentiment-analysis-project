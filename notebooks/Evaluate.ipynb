{
 "cells": [
  {
   "cell_type": "markdown",
   "metadata": {},
   "source": [
    "> # Evaluate\n",
    "> #### *Notebook that can be used to evaluate data outside of the dashboard*"
   ]
  },
  {
   "cell_type": "markdown",
   "metadata": {},
   "source": [
    "### Import Libraries"
   ]
  },
  {
   "cell_type": "code",
   "execution_count": 1,
   "metadata": {},
   "outputs": [],
   "source": [
    "import pickle\n",
    "import pandas as pd\n",
    "import numpy as np"
   ]
  },
  {
   "cell_type": "markdown",
   "metadata": {},
   "source": [
    "### Load Model"
   ]
  },
  {
   "cell_type": "code",
   "execution_count": 2,
   "metadata": {},
   "outputs": [],
   "source": [
    "with open(\"../model.pkl\", \"rb\") as file:\n",
    "    pickle_model = pickle.load(file)"
   ]
  },
  {
   "cell_type": "markdown",
   "metadata": {},
   "source": [
    "### Load Tweets & View Header"
   ]
  },
  {
   "cell_type": "code",
   "execution_count": 3,
   "metadata": {},
   "outputs": [],
   "source": [
    "tweets = pd.read_csv(\"../data/shopDisney.csv\", engine=\"python\")"
   ]
  },
  {
   "cell_type": "code",
   "execution_count": 4,
   "metadata": {},
   "outputs": [],
   "source": [
    "tweets[\"datetime\"] = pd.to_datetime(tweets[\"datetime\"])\n",
    "tweets[\"date\"] = tweets[\"datetime\"].dt.date\n",
    "tweets = tweets.drop([\"Unnamed: 0\", \"datetime\"], axis=1)\n",
    "tweets = tweets.sort_values(\"date\")"
   ]
  },
  {
   "cell_type": "code",
   "execution_count": 5,
   "metadata": {},
   "outputs": [
    {
     "data": {
      "text/html": [
       "<div>\n",
       "<style scoped>\n",
       "    .dataframe tbody tr th:only-of-type {\n",
       "        vertical-align: middle;\n",
       "    }\n",
       "\n",
       "    .dataframe tbody tr th {\n",
       "        vertical-align: top;\n",
       "    }\n",
       "\n",
       "    .dataframe thead th {\n",
       "        text-align: right;\n",
       "    }\n",
       "</style>\n",
       "<table border=\"1\" class=\"dataframe\">\n",
       "  <thead>\n",
       "    <tr style=\"text-align: right;\">\n",
       "      <th></th>\n",
       "      <th>text</th>\n",
       "      <th>user</th>\n",
       "      <th>location</th>\n",
       "      <th>date</th>\n",
       "    </tr>\n",
       "  </thead>\n",
       "  <tbody>\n",
       "    <tr>\n",
       "      <th>549</th>\n",
       "      <td>I really want new Disney Pins, but I'm so scar...</td>\n",
       "      <td>ThisIsJordanKay</td>\n",
       "      <td>Grand Rapids, MI</td>\n",
       "      <td>2020-06-07</td>\n",
       "    </tr>\n",
       "    <tr>\n",
       "      <th>528</th>\n",
       "      <td>Celebrate the 65th Anniversary of \"Lady &amp;amp; ...</td>\n",
       "      <td>disney_dooney</td>\n",
       "      <td>NaN</td>\n",
       "      <td>2020-06-07</td>\n",
       "    </tr>\n",
       "    <tr>\n",
       "      <th>527</th>\n",
       "      <td>That's no moon! That a Pewter Container Death ...</td>\n",
       "      <td>sfsignal</td>\n",
       "      <td>Houston, TX</td>\n",
       "      <td>2020-06-07</td>\n",
       "    </tr>\n",
       "    <tr>\n",
       "      <th>526</th>\n",
       "      <td>@shopDisney my order arrived with missing part...</td>\n",
       "      <td>Ancefan87Tr</td>\n",
       "      <td>Chicago</td>\n",
       "      <td>2020-06-07</td>\n",
       "    </tr>\n",
       "    <tr>\n",
       "      <th>525</th>\n",
       "      <td>@DLPHelp @vanitynightmare @DisneyParis_EN @Dis...</td>\n",
       "      <td>LouiseS67992560</td>\n",
       "      <td>Enfield</td>\n",
       "      <td>2020-06-07</td>\n",
       "    </tr>\n",
       "  </tbody>\n",
       "</table>\n",
       "</div>"
      ],
      "text/plain": [
       "                                                  text             user  \\\n",
       "549  I really want new Disney Pins, but I'm so scar...  ThisIsJordanKay   \n",
       "528  Celebrate the 65th Anniversary of \"Lady &amp; ...    disney_dooney   \n",
       "527  That's no moon! That a Pewter Container Death ...         sfsignal   \n",
       "526  @shopDisney my order arrived with missing part...      Ancefan87Tr   \n",
       "525  @DLPHelp @vanitynightmare @DisneyParis_EN @Dis...  LouiseS67992560   \n",
       "\n",
       "             location        date  \n",
       "549  Grand Rapids, MI  2020-06-07  \n",
       "528               NaN  2020-06-07  \n",
       "527       Houston, TX  2020-06-07  \n",
       "526           Chicago  2020-06-07  \n",
       "525           Enfield  2020-06-07  "
      ]
     },
     "execution_count": 5,
     "metadata": {},
     "output_type": "execute_result"
    }
   ],
   "source": [
    "tweets.head()"
   ]
  },
  {
   "cell_type": "markdown",
   "metadata": {},
   "source": [
    "### Make Predictions from Model"
   ]
  },
  {
   "cell_type": "code",
   "execution_count": 6,
   "metadata": {},
   "outputs": [],
   "source": [
    "tweets[\"sentiment\"] = pickle_model.predict(tweets.text)"
   ]
  },
  {
   "cell_type": "code",
   "execution_count": 7,
   "metadata": {},
   "outputs": [
    {
     "data": {
      "text/html": [
       "<div>\n",
       "<style scoped>\n",
       "    .dataframe tbody tr th:only-of-type {\n",
       "        vertical-align: middle;\n",
       "    }\n",
       "\n",
       "    .dataframe tbody tr th {\n",
       "        vertical-align: top;\n",
       "    }\n",
       "\n",
       "    .dataframe thead th {\n",
       "        text-align: right;\n",
       "    }\n",
       "</style>\n",
       "<table border=\"1\" class=\"dataframe\">\n",
       "  <thead>\n",
       "    <tr style=\"text-align: right;\">\n",
       "      <th></th>\n",
       "      <th>text</th>\n",
       "      <th>user</th>\n",
       "      <th>location</th>\n",
       "      <th>date</th>\n",
       "      <th>sentiment</th>\n",
       "    </tr>\n",
       "  </thead>\n",
       "  <tbody>\n",
       "    <tr>\n",
       "      <th>549</th>\n",
       "      <td>I really want new Disney Pins, but I'm so scar...</td>\n",
       "      <td>ThisIsJordanKay</td>\n",
       "      <td>Grand Rapids, MI</td>\n",
       "      <td>2020-06-07</td>\n",
       "      <td>0</td>\n",
       "    </tr>\n",
       "    <tr>\n",
       "      <th>528</th>\n",
       "      <td>Celebrate the 65th Anniversary of \"Lady &amp;amp; ...</td>\n",
       "      <td>disney_dooney</td>\n",
       "      <td>NaN</td>\n",
       "      <td>2020-06-07</td>\n",
       "      <td>4</td>\n",
       "    </tr>\n",
       "    <tr>\n",
       "      <th>527</th>\n",
       "      <td>That's no moon! That a Pewter Container Death ...</td>\n",
       "      <td>sfsignal</td>\n",
       "      <td>Houston, TX</td>\n",
       "      <td>2020-06-07</td>\n",
       "      <td>4</td>\n",
       "    </tr>\n",
       "    <tr>\n",
       "      <th>526</th>\n",
       "      <td>@shopDisney my order arrived with missing part...</td>\n",
       "      <td>Ancefan87Tr</td>\n",
       "      <td>Chicago</td>\n",
       "      <td>2020-06-07</td>\n",
       "      <td>0</td>\n",
       "    </tr>\n",
       "    <tr>\n",
       "      <th>525</th>\n",
       "      <td>@DLPHelp @vanitynightmare @DisneyParis_EN @Dis...</td>\n",
       "      <td>LouiseS67992560</td>\n",
       "      <td>Enfield</td>\n",
       "      <td>2020-06-07</td>\n",
       "      <td>4</td>\n",
       "    </tr>\n",
       "  </tbody>\n",
       "</table>\n",
       "</div>"
      ],
      "text/plain": [
       "                                                  text             user  \\\n",
       "549  I really want new Disney Pins, but I'm so scar...  ThisIsJordanKay   \n",
       "528  Celebrate the 65th Anniversary of \"Lady &amp; ...    disney_dooney   \n",
       "527  That's no moon! That a Pewter Container Death ...         sfsignal   \n",
       "526  @shopDisney my order arrived with missing part...      Ancefan87Tr   \n",
       "525  @DLPHelp @vanitynightmare @DisneyParis_EN @Dis...  LouiseS67992560   \n",
       "\n",
       "             location        date  sentiment  \n",
       "549  Grand Rapids, MI  2020-06-07          0  \n",
       "528               NaN  2020-06-07          4  \n",
       "527       Houston, TX  2020-06-07          4  \n",
       "526           Chicago  2020-06-07          0  \n",
       "525           Enfield  2020-06-07          4  "
      ]
     },
     "execution_count": 7,
     "metadata": {},
     "output_type": "execute_result"
    }
   ],
   "source": [
    "tweets.head()"
   ]
  },
  {
   "cell_type": "code",
   "execution_count": 8,
   "metadata": {},
   "outputs": [
    {
     "name": "stdout",
     "output_type": "stream",
     "text": [
      "2020-06-07 0.5833333333333334\n",
      "2020-06-08 0.5\n",
      "2020-06-09 0.6476190476190476\n",
      "2020-06-10 0.6436781609195402\n",
      "2020-06-11 0.63\n",
      "2020-06-12 0.589041095890411\n"
     ]
    }
   ],
   "source": [
    "for date in tweets.date.unique():\n",
    "    tweets_filtered = tweets[tweets[\"date\"]==date]\n",
    "    positive = tweets_filtered[\"sentiment\"][tweets_filtered[\"sentiment\"] == 4].count()/tweets_filtered[\"sentiment\"].count()\n",
    "    print(date, positive)"
   ]
  }
 ],
 "metadata": {
  "kernelspec": {
   "display_name": "Python 3",
   "language": "python",
   "name": "python3"
  },
  "language_info": {
   "codemirror_mode": {
    "name": "ipython",
    "version": 3
   },
   "file_extension": ".py",
   "mimetype": "text/x-python",
   "name": "python",
   "nbconvert_exporter": "python",
   "pygments_lexer": "ipython3",
   "version": "3.7.6"
  }
 },
 "nbformat": 4,
 "nbformat_minor": 2
}
