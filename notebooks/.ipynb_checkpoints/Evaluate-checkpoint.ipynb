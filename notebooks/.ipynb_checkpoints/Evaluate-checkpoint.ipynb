{
 "cells": [
  {
   "cell_type": "markdown",
   "metadata": {},
   "source": [
    "> # Evaluate\n",
    "> #### *Notebook that can be used to evaluate data outside of the dashboard*"
   ]
  },
  {
   "cell_type": "markdown",
   "metadata": {},
   "source": [
    "### Import Libraries"
   ]
  },
  {
   "cell_type": "code",
   "execution_count": 1,
   "metadata": {},
   "outputs": [],
   "source": [
    "import pickle\n",
    "import pandas as pd\n",
    "import numpy as np"
   ]
  },
  {
   "cell_type": "markdown",
   "metadata": {},
   "source": [
    "### Load Model"
   ]
  },
  {
   "cell_type": "code",
   "execution_count": 2,
   "metadata": {},
   "outputs": [],
   "source": [
    "with open(\"../model.pkl\", \"rb\") as file:\n",
    "    pickle_model = pickle.load(file)"
   ]
  },
  {
   "cell_type": "markdown",
   "metadata": {},
   "source": [
    "### Load Tweets & View Header"
   ]
  },
  {
   "cell_type": "code",
   "execution_count": 3,
   "metadata": {},
   "outputs": [],
   "source": [
    "tweets = pd.read_csv(\"../data/shopDisney.csv\", engine=\"python\")"
   ]
  },
  {
   "cell_type": "code",
   "execution_count": 4,
   "metadata": {},
   "outputs": [],
   "source": [
    "tweets[\"datetime\"] = pd.to_datetime(tweets[\"datetime\"])\n",
    "tweets[\"date\"] = tweets[\"datetime\"].dt.date\n",
    "tweets = tweets.drop([\"Unnamed: 0\", \"datetime\"], axis=1)\n",
    "tweets = tweets.sort_values(\"date\")"
   ]
  },
  {
   "cell_type": "code",
   "execution_count": 5,
   "metadata": {},
   "outputs": [
    {
     "data": {
      "text/html": [
       "<div>\n",
       "<style scoped>\n",
       "    .dataframe tbody tr th:only-of-type {\n",
       "        vertical-align: middle;\n",
       "    }\n",
       "\n",
       "    .dataframe tbody tr th {\n",
       "        vertical-align: top;\n",
       "    }\n",
       "\n",
       "    .dataframe thead th {\n",
       "        text-align: right;\n",
       "    }\n",
       "</style>\n",
       "<table border=\"1\" class=\"dataframe\">\n",
       "  <thead>\n",
       "    <tr style=\"text-align: right;\">\n",
       "      <th></th>\n",
       "      <th>text</th>\n",
       "      <th>user</th>\n",
       "      <th>location</th>\n",
       "      <th>date</th>\n",
       "    </tr>\n",
       "  </thead>\n",
       "  <tbody>\n",
       "    <tr>\n",
       "      <th>543</th>\n",
       "      <td>@shopDisney I've had my posted charges reduced...</td>\n",
       "      <td>DisneyEvrywhere</td>\n",
       "      <td>United Kingdom</td>\n",
       "      <td>2020-06-04</td>\n",
       "    </tr>\n",
       "    <tr>\n",
       "      <th>539</th>\n",
       "      <td>Check out the new kitchen range by BRUNO from ...</td>\n",
       "      <td>TDRTweets</td>\n",
       "      <td>United Kingdom</td>\n",
       "      <td>2020-06-04</td>\n",
       "    </tr>\n",
       "    <tr>\n",
       "      <th>542</th>\n",
       "      <td>@TiAnA_RuBy_AvI We are so sorry for your incon...</td>\n",
       "      <td>shopDisney</td>\n",
       "      <td>Second star to the right</td>\n",
       "      <td>2020-06-04</td>\n",
       "    </tr>\n",
       "    <tr>\n",
       "      <th>541</th>\n",
       "      <td>@josieberesnyak We are so sorry for your disap...</td>\n",
       "      <td>shopDisney</td>\n",
       "      <td>Second star to the right</td>\n",
       "      <td>2020-06-04</td>\n",
       "    </tr>\n",
       "    <tr>\n",
       "      <th>540</th>\n",
       "      <td>@Ilovecanada Hi, Chelsea. We replied to your D...</td>\n",
       "      <td>shopDisney</td>\n",
       "      <td>Second star to the right</td>\n",
       "      <td>2020-06-04</td>\n",
       "    </tr>\n",
       "  </tbody>\n",
       "</table>\n",
       "</div>"
      ],
      "text/plain": [
       "                                                  text             user  \\\n",
       "543  @shopDisney I've had my posted charges reduced...  DisneyEvrywhere   \n",
       "539  Check out the new kitchen range by BRUNO from ...        TDRTweets   \n",
       "542  @TiAnA_RuBy_AvI We are so sorry for your incon...       shopDisney   \n",
       "541  @josieberesnyak We are so sorry for your disap...       shopDisney   \n",
       "540  @Ilovecanada Hi, Chelsea. We replied to your D...       shopDisney   \n",
       "\n",
       "                     location        date  \n",
       "543            United Kingdom  2020-06-04  \n",
       "539            United Kingdom  2020-06-04  \n",
       "542  Second star to the right  2020-06-04  \n",
       "541  Second star to the right  2020-06-04  \n",
       "540  Second star to the right  2020-06-04  "
      ]
     },
     "execution_count": 5,
     "metadata": {},
     "output_type": "execute_result"
    }
   ],
   "source": [
    "tweets.head()"
   ]
  },
  {
   "cell_type": "markdown",
   "metadata": {},
   "source": [
    "### Make Predictions from Model"
   ]
  },
  {
   "cell_type": "code",
   "execution_count": 6,
   "metadata": {},
   "outputs": [],
   "source": [
    "tweets[\"sentiment\"] = pickle_model.predict(tweets.text)"
   ]
  },
  {
   "cell_type": "code",
   "execution_count": 7,
   "metadata": {},
   "outputs": [
    {
     "data": {
      "text/html": [
       "<div>\n",
       "<style scoped>\n",
       "    .dataframe tbody tr th:only-of-type {\n",
       "        vertical-align: middle;\n",
       "    }\n",
       "\n",
       "    .dataframe tbody tr th {\n",
       "        vertical-align: top;\n",
       "    }\n",
       "\n",
       "    .dataframe thead th {\n",
       "        text-align: right;\n",
       "    }\n",
       "</style>\n",
       "<table border=\"1\" class=\"dataframe\">\n",
       "  <thead>\n",
       "    <tr style=\"text-align: right;\">\n",
       "      <th></th>\n",
       "      <th>text</th>\n",
       "      <th>user</th>\n",
       "      <th>location</th>\n",
       "      <th>date</th>\n",
       "      <th>sentiment</th>\n",
       "    </tr>\n",
       "  </thead>\n",
       "  <tbody>\n",
       "    <tr>\n",
       "      <th>543</th>\n",
       "      <td>@shopDisney I've had my posted charges reduced...</td>\n",
       "      <td>DisneyEvrywhere</td>\n",
       "      <td>United Kingdom</td>\n",
       "      <td>2020-06-04</td>\n",
       "      <td>0</td>\n",
       "    </tr>\n",
       "    <tr>\n",
       "      <th>539</th>\n",
       "      <td>Check out the new kitchen range by BRUNO from ...</td>\n",
       "      <td>TDRTweets</td>\n",
       "      <td>United Kingdom</td>\n",
       "      <td>2020-06-04</td>\n",
       "      <td>4</td>\n",
       "    </tr>\n",
       "    <tr>\n",
       "      <th>542</th>\n",
       "      <td>@TiAnA_RuBy_AvI We are so sorry for your incon...</td>\n",
       "      <td>shopDisney</td>\n",
       "      <td>Second star to the right</td>\n",
       "      <td>2020-06-04</td>\n",
       "      <td>0</td>\n",
       "    </tr>\n",
       "    <tr>\n",
       "      <th>541</th>\n",
       "      <td>@josieberesnyak We are so sorry for your disap...</td>\n",
       "      <td>shopDisney</td>\n",
       "      <td>Second star to the right</td>\n",
       "      <td>2020-06-04</td>\n",
       "      <td>0</td>\n",
       "    </tr>\n",
       "    <tr>\n",
       "      <th>540</th>\n",
       "      <td>@Ilovecanada Hi, Chelsea. We replied to your D...</td>\n",
       "      <td>shopDisney</td>\n",
       "      <td>Second star to the right</td>\n",
       "      <td>2020-06-04</td>\n",
       "      <td>4</td>\n",
       "    </tr>\n",
       "  </tbody>\n",
       "</table>\n",
       "</div>"
      ],
      "text/plain": [
       "                                                  text             user  \\\n",
       "543  @shopDisney I've had my posted charges reduced...  DisneyEvrywhere   \n",
       "539  Check out the new kitchen range by BRUNO from ...        TDRTweets   \n",
       "542  @TiAnA_RuBy_AvI We are so sorry for your incon...       shopDisney   \n",
       "541  @josieberesnyak We are so sorry for your disap...       shopDisney   \n",
       "540  @Ilovecanada Hi, Chelsea. We replied to your D...       shopDisney   \n",
       "\n",
       "                     location        date  sentiment  \n",
       "543            United Kingdom  2020-06-04          0  \n",
       "539            United Kingdom  2020-06-04          4  \n",
       "542  Second star to the right  2020-06-04          0  \n",
       "541  Second star to the right  2020-06-04          0  \n",
       "540  Second star to the right  2020-06-04          4  "
      ]
     },
     "execution_count": 7,
     "metadata": {},
     "output_type": "execute_result"
    }
   ],
   "source": [
    "tweets.head()"
   ]
  },
  {
   "cell_type": "code",
   "execution_count": 8,
   "metadata": {},
   "outputs": [
    {
     "name": "stdout",
     "output_type": "stream",
     "text": [
      "2020-06-04 0.4 0.6\n",
      "2020-06-05 0.5333333333333333 0.4666666666666667\n",
      "2020-06-06 0.651685393258427 0.348314606741573\n",
      "2020-06-07 0.7222222222222222 0.2777777777777778\n",
      "2020-06-08 0.5657894736842105 0.4342105263157895\n",
      "2020-06-09 0.6320754716981132 0.3679245283018868\n",
      "2020-06-10 0.6551724137931034 0.3448275862068966\n",
      "2020-06-11 0.66 0.33999999999999997\n"
     ]
    }
   ],
   "source": [
    "for date in tweets.date.unique():\n",
    "    tweets_filtered = tweets[tweets[\"date\"]==date]\n",
    "    positive = tweets_filtered[\"sentiment\"][tweets_filtered[\"sentiment\"] == 4].count()/tweets_filtered[\"sentiment\"].count()\n",
    "    print(date, positive, 1-positive)"
   ]
  },
  {
   "cell_type": "code",
   "execution_count": null,
   "metadata": {},
   "outputs": [],
   "source": []
  }
 ],
 "metadata": {
  "kernelspec": {
   "display_name": "Python 3",
   "language": "python",
   "name": "python3"
  },
  "language_info": {
   "codemirror_mode": {
    "name": "ipython",
    "version": 3
   },
   "file_extension": ".py",
   "mimetype": "text/x-python",
   "name": "python",
   "nbconvert_exporter": "python",
   "pygments_lexer": "ipython3",
   "version": "3.7.6"
  }
 },
 "nbformat": 4,
 "nbformat_minor": 2
}
